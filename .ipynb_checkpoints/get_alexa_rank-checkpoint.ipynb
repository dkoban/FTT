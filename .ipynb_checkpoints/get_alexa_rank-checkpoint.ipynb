{
 "cells": [
  {
   "cell_type": "markdown",
   "metadata": {},
   "source": [
    "### Import tokens"
   ]
  },
  {
   "cell_type": "code",
   "execution_count": null,
   "metadata": {},
   "outputs": [],
   "source": [
    "import pandas as pd\n",
    "tokens = pd.read_csv(\"/Users/dankoban/Desktop/api_keys/tokens.csv\")\n",
    "awis_token = tokens['key'][tokens['name'] == 'awis_token'].tolist()[0]\n",
    "awis_access_id = tokens['key'][tokens['name'] == 'awis_access_id'].tolist()[0]\n",
    "twitter_bearer_token = tokens['key'][tokens['name'] == 'twitter_academic_bearer_token'].tolist()[0]"
   ]
  },
  {
   "cell_type": "markdown",
   "metadata": {},
   "source": [
    "### Query news sites for Alexa rank\n",
    "\n",
    "https://www.alexa.com/popular-articles/public-health#"
   ]
  },
  {
   "cell_type": "code",
   "execution_count": null,
   "metadata": {},
   "outputs": [],
   "source": [
    "from util import get_alexa_rank\n",
    "\n",
    "domains = ['cnn.com', 'dailywire.com', 'publichealth.lacounty.gov']\n",
    "for domain in domains:\n",
    "    print(get_alexa_rank(domain, api_key = awis_token, access_id = awis_access_id))"
   ]
  },
  {
   "cell_type": "markdown",
   "metadata": {},
   "source": [
    "### Query Twitter \n",
    "\n",
    "https://developer.twitter.com/en/docs/twitter-api/early-access"
   ]
  },
  {
   "cell_type": "code",
   "execution_count": null,
   "metadata": {},
   "outputs": [],
   "source": [
    "import api_wrapper as api\n",
    "import os\n",
    "\n",
    "os.environ[\"BEARER_TOKEN\"] = twitter_bearer_token\n",
    "\n",
    "seed_accounts = ['starsandstripes']\n",
    "seed_account_info = api.get_users(usernames=seed_accounts)                    \n",
    "seed_account_info.head()"
   ]
  },
  {
   "cell_type": "code",
   "execution_count": null,
   "metadata": {},
   "outputs": [],
   "source": [
    "def rehydrate_status_ids(ids, token = 0):\n",
    "    # authenticate with end point\n",
    "    bearer_token = os.environ.get(\"BEARER_TOKEN\")\n",
    "    tweet_fields = \"tweet.fields=author_id,conversation_id,public_metrics\"\n",
    "    ids = [str(id) for id in ids]\n",
    "    ids = \"ids=\" + \",\".join(ids)        \n",
    "    url = \"https://api.twitter.com/2/tweets?{}&{}\".format(ids, tweet_fields)\n",
    "    \n",
    "    # submit GET request - submit a query to the API      \n",
    "    response = requests.request(\"GET\", url, \n",
    "                                headers = {\"Authorization\": \"Bearer {}\".format(bearer_token)})   \n",
    "    \n",
    "    return response\n",
    "\n",
    "r = rehydrate_status_ids(ids = ['1374747080602828806'])\n",
    "r.json()"
   ]
  },
  {
   "cell_type": "code",
   "execution_count": null,
   "metadata": {},
   "outputs": [],
   "source": [
    "def rehydrate_conversation(conversation_id):\n",
    "    # authenticate with end point\n",
    "    bearer_token = os.environ.get(\"BEARER_TOKEN\")\n",
    "    tweet_fields = \"tweet.fields=lang,author_id,conversation_id\"\n",
    "    url = 'https://api.twitter.com/2/tweets/search/recent?query=conversation_id:' + conversation_id\n",
    "    \n",
    "    # submit GET request - submit a query to the API      \n",
    "    response = requests.request(\"GET\", url, \n",
    "                                headers = {\"Authorization\": \"Bearer {}\".format(bearer_token)})   \n",
    "    \n",
    "    return response\n",
    "\n",
    "r = rehydrate_conversation(conversation_id = '1374747080602828806')\n",
    "r.json()"
   ]
  },
  {
   "cell_type": "code",
   "execution_count": null,
   "metadata": {},
   "outputs": [],
   "source": [
    "def find_retweets(conversation_id):\n",
    "    # authenticate with end point\n",
    "    bearer_token = os.environ.get(\"BEARER_TOKEN\")\n",
    "    tweet_fields = \"tweet.fields=lang,author_id,conversation_id\"\n",
    "    url = 'https://api.twitter.com/2/tweets/search/recent?query=Russia outsources disinformation efforts to foreign troll farms\\n'\n",
    "    \n",
    "    # submit GET request - submit a query to the API      \n",
    "    response = requests.request(\"GET\", url, \n",
    "                                headers = {\"Authorization\": \"Bearer {}\".format(bearer_token)})   \n",
    "    \n",
    "    return response\n",
    "\n",
    "r = find_retweets(conversation_id = '1374747080602828806')\n",
    "r.json()"
   ]
  },
  {
   "cell_type": "code",
   "execution_count": null,
   "metadata": {},
   "outputs": [],
   "source": [
    "import requests\n",
    "def search_url(url, token = 0):\n",
    "    # authenticate with end point\n",
    "    bearer_token = os.environ.get(\"BEARER_TOKEN\")\n",
    "    \n",
    "    # query profile info to get a user_id\n",
    "    #user_info = get_users(username)\n",
    "    #user_id = user_info['user_id'][0]\n",
    "    \n",
    "    # generate query string    \n",
    "    # 'https://api.twitter.com/2/tweets/search/all?query=caturday%20has:images%20-is:retweet&tweet.fields=created_at,author_id,lang&max_results=20'\n",
    "    # 'url:stackoverflow.com'\n",
    "    # https://developer.twitter.com/en/docs/twitter-api/tweets/search/integrate/build-a-query\n",
    "    if token == 0: \n",
    "        url =  'https://api.twitter.com/2/tweets/search/all?query=' + url + '%20has:images%20-is:retweet&tweet.fields=created_at,author_id,lang&max_results=20'\n",
    "    else:\n",
    "        url =  'https://api.twitter.com/2/tweets/search/?query=' + url + '/tweets?tweet.fields=conversation_id,in_reply_to_user_id,created_at,author_id,entities,public_metrics,geo,lang,referenced_tweets&max_results=100&pagination_token=' + token    \n",
    "    \n",
    "    # submit GET request - submit a query to the API      \n",
    "    response = requests.request(\"GET\", url, \n",
    "                                headers = {\"Authorization\": \"Bearer {}\".format(bearer_token)})   \n",
    "    \n",
    "    return response\n",
    "\n",
    "r = search_url(url = 'url:stackoverflow.com', token = 0)\n",
    "r.json()\n"
   ]
  }
 ],
 "metadata": {
  "kernelspec": {
   "display_name": "Python 3",
   "language": "python",
   "name": "python3"
  },
  "language_info": {
   "codemirror_mode": {
    "name": "ipython",
    "version": 3
   },
   "file_extension": ".py",
   "mimetype": "text/x-python",
   "name": "python",
   "nbconvert_exporter": "python",
   "pygments_lexer": "ipython3",
   "version": "3.8.5"
  }
 },
 "nbformat": 4,
 "nbformat_minor": 4
}
