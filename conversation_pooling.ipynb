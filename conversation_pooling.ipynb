{
 "cells": [
  {
   "cell_type": "markdown",
   "metadata": {},
   "source": [
    "### Import tokens"
   ]
  },
  {
   "cell_type": "code",
   "execution_count": 1,
   "metadata": {},
   "outputs": [],
   "source": [
    "import pandas as pd\n",
    "tokens = pd.read_csv(\"/Users/dankoban/Desktop/api_keys/tokens.csv\")\n",
    "twitter_bearer_token = tokens['key'][tokens['name'] == 'twitter_academic_bearer_token'].tolist()[0]"
   ]
  },
  {
   "cell_type": "markdown",
   "metadata": {},
   "source": [
    "### Extract conversation IDs for an original post\n",
    "\n",
    "https://developer.twitter.com/en/docs/twitter-api/early-access"
   ]
  },
  {
   "cell_type": "code",
   "execution_count": 2,
   "metadata": {},
   "outputs": [],
   "source": [
    "import api_wrapper as api\n",
    "import requests\n",
    "import os\n",
    "os.environ[\"BEARER_TOKEN\"] = twitter_bearer_token"
   ]
  },
  {
   "cell_type": "code",
   "execution_count": 4,
   "metadata": {},
   "outputs": [
    {
     "name": "stdout",
     "output_type": "stream",
     "text": [
      "https://api.twitter.com/2/tweets/search/all?query=7 Times California Democrats Were Accused of Skirting Public Health Guidelines&max_results=20&start_time=2020-11-18T00%3A00%3A00Z&end_time=2020-11-21T11%3A59%3A59Z&tweet.fields=author_id,conversation_id,public_metrics\n"
     ]
    },
    {
     "data": {
      "text/plain": [
       "{'data': [{'author_id': '1280245545869676549',\n",
       "   'conversation_id': '1330117493378125826',\n",
       "   'text': 'RT @FrancisBrennan: \"7 Times California Democrats Were Accused of Skirting Public Health Guidelines\" https://t.co/d6A96M5rdC',\n",
       "   'public_metrics': {'retweet_count': 11,\n",
       "    'reply_count': 0,\n",
       "    'like_count': 0,\n",
       "    'quote_count': 0},\n",
       "   'id': '1330117493378125826'},\n",
       "  {'author_id': '832103844045795330',\n",
       "   'conversation_id': '1330116380465754115',\n",
       "   'text': 'RT @FrancisBrennan: \"7 Times California Democrats Were Accused of Skirting Public Health Guidelines\" https://t.co/d6A96M5rdC',\n",
       "   'public_metrics': {'retweet_count': 11,\n",
       "    'reply_count': 0,\n",
       "    'like_count': 0,\n",
       "    'quote_count': 0},\n",
       "   'id': '1330116380465754115'},\n",
       "  {'author_id': '718187712',\n",
       "   'conversation_id': '1330113572161122306',\n",
       "   'text': '\"7 Times California Democrats Were Accused of Skirting Public Health Guidelines\" https://t.co/d6A96M5rdC',\n",
       "   'public_metrics': {'retweet_count': 11,\n",
       "    'reply_count': 4,\n",
       "    'like_count': 19,\n",
       "    'quote_count': 0},\n",
       "   'id': '1330113572161122306'},\n",
       "  {'author_id': '1263832900333600769',\n",
       "   'conversation_id': '1330093318936686592',\n",
       "   'text': 'RT @SteveGuest: 7 Times California Democrats Were Accused of Skirting Public Health Guidelines https://t.co/r5AsUYQcTs',\n",
       "   'public_metrics': {'retweet_count': 45,\n",
       "    'reply_count': 0,\n",
       "    'like_count': 0,\n",
       "    'quote_count': 0},\n",
       "   'id': '1330093318936686592'},\n",
       "  {'author_id': '1088791080076787712',\n",
       "   'conversation_id': '1330080308629221380',\n",
       "   'text': '7 Times California Democrats Were Accused of Skirting Public Health Guidelines #UI #health via https://t.co/bQq9jqbHuf https://t.co/SpwHDF73b0',\n",
       "   'public_metrics': {'retweet_count': 0,\n",
       "    'reply_count': 0,\n",
       "    'like_count': 0,\n",
       "    'quote_count': 0},\n",
       "   'id': '1330080308629221380'},\n",
       "  {'author_id': '586045421',\n",
       "   'conversation_id': '1330056706064326656',\n",
       "   'text': 'RT @SteveGuest: 7 Times California Democrats Were Accused of Skirting Public Health Guidelines https://t.co/r5AsUYQcTs',\n",
       "   'public_metrics': {'retweet_count': 45,\n",
       "    'reply_count': 0,\n",
       "    'like_count': 0,\n",
       "    'quote_count': 0},\n",
       "   'id': '1330056706064326656'},\n",
       "  {'author_id': '1216186426175512579',\n",
       "   'conversation_id': '1330043975869353991',\n",
       "   'text': 'RT @SteveGuest: 7 Times California Democrats Were Accused of Skirting Public Health Guidelines https://t.co/r5AsUYQcTs',\n",
       "   'public_metrics': {'retweet_count': 45,\n",
       "    'reply_count': 0,\n",
       "    'like_count': 0,\n",
       "    'quote_count': 0},\n",
       "   'id': '1330043975869353991'},\n",
       "  {'author_id': '1244796518676086784',\n",
       "   'conversation_id': '1330000337864855552',\n",
       "   'text': 'RT @SteveGuest: 7 Times California Democrats Were Accused of Skirting Public Health Guidelines https://t.co/r5AsUYQcTs',\n",
       "   'public_metrics': {'retweet_count': 45,\n",
       "    'reply_count': 0,\n",
       "    'like_count': 0,\n",
       "    'quote_count': 0},\n",
       "   'id': '1330000337864855552'},\n",
       "  {'author_id': '1320879504148041735',\n",
       "   'conversation_id': '1329999541517639683',\n",
       "   'text': 'RT @SteveGuest: 7 Times California Democrats Were Accused of Skirting Public Health Guidelines https://t.co/r5AsUYQcTs',\n",
       "   'public_metrics': {'retweet_count': 45,\n",
       "    'reply_count': 0,\n",
       "    'like_count': 0,\n",
       "    'quote_count': 0},\n",
       "   'id': '1329999541517639683'},\n",
       "  {'author_id': '286479483',\n",
       "   'conversation_id': '1329997900403929090',\n",
       "   'text': 'RT @SteveGuest: 7 Times California Democrats Were Accused of Skirting Public Health Guidelines https://t.co/r5AsUYQcTs',\n",
       "   'public_metrics': {'retweet_count': 45,\n",
       "    'reply_count': 0,\n",
       "    'like_count': 0,\n",
       "    'quote_count': 0},\n",
       "   'id': '1329997900403929090'},\n",
       "  {'author_id': '1079514098134597632',\n",
       "   'conversation_id': '1329997655062228993',\n",
       "   'text': 'RT @SteveGuest: 7 Times California Democrats Were Accused of Skirting Public Health Guidelines https://t.co/r5AsUYQcTs',\n",
       "   'public_metrics': {'retweet_count': 45,\n",
       "    'reply_count': 0,\n",
       "    'like_count': 0,\n",
       "    'quote_count': 0},\n",
       "   'id': '1329997655062228993'},\n",
       "  {'author_id': '177584156',\n",
       "   'conversation_id': '1329997426661330944',\n",
       "   'text': 'RT @SteveGuest: 7 Times California Democrats Were Accused of Skirting Public Health Guidelines https://t.co/r5AsUYQcTs',\n",
       "   'public_metrics': {'retweet_count': 45,\n",
       "    'reply_count': 0,\n",
       "    'like_count': 0,\n",
       "    'quote_count': 0},\n",
       "   'id': '1329997426661330944'},\n",
       "  {'author_id': '15784591',\n",
       "   'conversation_id': '1329997127687184386',\n",
       "   'text': '7 Times California Democrats Were Accused of Skirting Public Health Guidelines https://t.co/AaFLxotPjv',\n",
       "   'public_metrics': {'retweet_count': 0,\n",
       "    'reply_count': 0,\n",
       "    'like_count': 0,\n",
       "    'quote_count': 0},\n",
       "   'id': '1329997127687184386'},\n",
       "  {'author_id': '17923419',\n",
       "   'conversation_id': '1329993072311201795',\n",
       "   'text': 'RT @SteveGuest: 7 Times California Democrats Were Accused of Skirting Public Health Guidelines https://t.co/r5AsUYQcTs',\n",
       "   'public_metrics': {'retweet_count': 45,\n",
       "    'reply_count': 0,\n",
       "    'like_count': 0,\n",
       "    'quote_count': 0},\n",
       "   'id': '1329993072311201795'},\n",
       "  {'author_id': '2233219521',\n",
       "   'conversation_id': '1329976731445424135',\n",
       "   'text': '7 Times California Democrats Were Accused of Skirting Public Health Guidelines https://t.co/BEUIwTUFRr',\n",
       "   'public_metrics': {'retweet_count': 0,\n",
       "    'reply_count': 0,\n",
       "    'like_count': 0,\n",
       "    'quote_count': 0},\n",
       "   'id': '1329976731445424135'},\n",
       "  {'author_id': '1250052745',\n",
       "   'conversation_id': '1329966397913489409',\n",
       "   'text': 'RT @realDailyWire: 7 Times California Democrats Were Accused of Skirting Public Health Guidelines https://t.co/EmrUL8R5Vs https://t.co/fu7M…',\n",
       "   'public_metrics': {'retweet_count': 31,\n",
       "    'reply_count': 0,\n",
       "    'like_count': 0,\n",
       "    'quote_count': 0},\n",
       "   'id': '1329966397913489409'},\n",
       "  {'author_id': '1120452053296271360',\n",
       "   'conversation_id': '1329961434881560576',\n",
       "   'text': 'RT @SteveGuest: 7 Times California Democrats Were Accused of Skirting Public Health Guidelines https://t.co/r5AsUYQcTs',\n",
       "   'public_metrics': {'retweet_count': 45,\n",
       "    'reply_count': 0,\n",
       "    'like_count': 0,\n",
       "    'quote_count': 0},\n",
       "   'id': '1329961434881560576'},\n",
       "  {'author_id': '1175514037704155138',\n",
       "   'conversation_id': '1329959360064270338',\n",
       "   'text': '7 Times California Democrats Were Accused of Skirting Public Health Guidelines #UI #health via https://t.co/8LdMgYLxTB https://t.co/EmpDYgxqGW',\n",
       "   'public_metrics': {'retweet_count': 0,\n",
       "    'reply_count': 0,\n",
       "    'like_count': 0,\n",
       "    'quote_count': 0},\n",
       "   'id': '1329959360064270338'},\n",
       "  {'author_id': '1000326823647956992',\n",
       "   'conversation_id': '1329959274202718210',\n",
       "   'text': 'RT @SteveGuest: 7 Times California Democrats Were Accused of Skirting Public Health Guidelines https://t.co/r5AsUYQcTs',\n",
       "   'public_metrics': {'retweet_count': 45,\n",
       "    'reply_count': 0,\n",
       "    'like_count': 0,\n",
       "    'quote_count': 0},\n",
       "   'id': '1329959274202718210'}],\n",
       " 'meta': {'newest_id': '1330117493378125826',\n",
       "  'oldest_id': '1329959274202718210',\n",
       "  'result_count': 19,\n",
       "  'next_token': 'b26v89c19zqg8o3fosbvxr02l7ja9s9iylxj3ddtjdhfh'}}"
      ]
     },
     "execution_count": 4,
     "metadata": {},
     "output_type": "execute_result"
    }
   ],
   "source": [
    "r = api.search_tweets_by_article_title(article_title = '7 Times California Democrats Were Accused of Skirting Public Health Guidelines',\n",
    "                                   start_date = '2020-11-18', end_date = '2020-11-21')\n",
    "r.json()"
   ]
  },
  {
   "cell_type": "code",
   "execution_count": 3,
   "metadata": {},
   "outputs": [
    {
     "name": "stdout",
     "output_type": "stream",
     "text": [
      "https://api.twitter.com/2/tweets/search/all?query=7 Times California Democrats Were Accused of Skirting Public Health Guidelines from%3ArealDailyWire&max_results=20&start_time=2020-11-18T00%3A00%3A00Z&end_time=2020-11-21T11%3A59%3A59Z&tweet.fields=author_id,conversation_id,public_metrics\n"
     ]
    },
    {
     "data": {
      "text/plain": [
       "{'data': [{'text': '7 Times California Democrats Were Accused of Skirting Public Health Guidelines https://t.co/EmrUL8R5Vs https://t.co/fu7MqU2TDO',\n",
       "   'author_id': '4081106480',\n",
       "   'id': '1329777022302732293',\n",
       "   'conversation_id': '1329777022302732293',\n",
       "   'public_metrics': {'retweet_count': 31,\n",
       "    'reply_count': 5,\n",
       "    'like_count': 155,\n",
       "    'quote_count': 8}}],\n",
       " 'meta': {'newest_id': '1329777022302732293',\n",
       "  'oldest_id': '1329777022302732293',\n",
       "  'result_count': 1}}"
      ]
     },
     "execution_count": 3,
     "metadata": {},
     "output_type": "execute_result"
    }
   ],
   "source": [
    "r = api.search_tweets_by_article_title_and_user(from_user = 'realDailyWire', \n",
    "                  article_title = '7 Times California Democrats Were Accused of Skirting Public Health Guidelines',\n",
    "                  start_date = '2020-11-18', end_date = '2020-11-21')\n",
    "r.json()"
   ]
  },
  {
   "cell_type": "code",
   "execution_count": 6,
   "metadata": {},
   "outputs": [
    {
     "data": {
      "text/plain": [
       "{'data': [{'text': 'Prince Harry, Meghan Markle Admit To Falsehood In Oprah Interview https://t.co/VLhp22FkaO https://t.co/nWG314urY3',\n",
       "   'author_id': '4081106480',\n",
       "   'public_metrics': {'retweet_count': 94,\n",
       "    'reply_count': 78,\n",
       "    'like_count': 539,\n",
       "    'quote_count': 33},\n",
       "   'id': '1375040407097122818',\n",
       "   'conversation_id': '1375040407097122818'}]}"
      ]
     },
     "execution_count": 6,
     "metadata": {},
     "output_type": "execute_result"
    }
   ],
   "source": [
    "r = api.rehydrate_status_ids(ids = ['1375040407097122818'])\n",
    "r.json()"
   ]
  },
  {
   "cell_type": "markdown",
   "metadata": {},
   "source": [
    "### Query replies to an original post"
   ]
  },
  {
   "cell_type": "code",
   "execution_count": 15,
   "metadata": {},
   "outputs": [
    {
     "name": "stdout",
     "output_type": "stream",
     "text": [
      "@realDailyWire Both of them are disgusting.\n",
      "@realDailyWire Bet it won’t be trending for days like the original story . https://t.co/2KL4IgahTe\n",
      "@realDailyWire Of course, another Jussie Smollett.\n",
      "@realDailyWire https://t.co/tWh41NmvaT\n",
      "@realDailyWire Crazy people say crazy things\n",
      "@realDailyWire If they lied about one thing it's likely they lied about other things too...\n",
      "@realDailyWire Well she’s lying, so she definitely will make a great President\n",
      "@realDailyWire So...the liars....lied.\n",
      "@realDailyWire Even the Chinese have contempt for the phony, woke, sanctimonious, liberal, race hustlers.\n",
      "@realDailyWire Falsehood = LIES   ... PERIOD\n",
      "@realDailyWire That woman who pretended never cared about Royal family is big liar! Of course she love huge money and name of Royal family. Before she married to Royal family, who knew her!\n",
      "@Rembrant111 @realDailyWire You did it wrong.\n",
      "They: Lie\n",
      "You: Theatrical pause...What?!\n",
      "@realDailyWire https://t.co/tYDEIEIkKO\n",
      "@realDailyWire .@benshapiro was more angry about this interview than a Biden presidency. He practically called Megan a bitch, which is completely out of character for Ben.\n",
      "@realDailyWire https://t.co/7xQJSwranY\n",
      "@realDailyWire So they fibbed about the wedding, made vague accusations of racism, and complained that the crown wouldn't censor the press. This was exactly what it looked like. A couple of entitled, millionaires crying to a billionaire about being oppressed and victimized. 🤡🌎\n",
      "@realDailyWire Nooooooooooooo https://t.co/PSYIQ4NwtD\n",
      "@realDailyWire https://t.co/GGKLmYzbQI\n",
      "@realDailyWire Theres a massive shock they were lying 😂😂😂fucking attention seeking cunts\n",
      "@realDailyWire They are pathological.\n",
      "What a disgusting couple.\n",
      "@realDailyWire Admit to falsehoods...let's call a lie a fu&lt;king lie people\n",
      "@xoXTheQueenXox @realDailyWire Maybe you could like click the link provided in the tweet. And then start to read the words that magically pop up. Could be a good place to start.\n",
      "@realDailyWire Falsehood... you mean LIE\n",
      "\n",
      "It was a LIE\n",
      "\n",
      "Same thing we teach out kids not to do...\n",
      "@realDailyWire Phony \"American\" royalty. Get outta heeeee\n",
      "\n",
      "God save the queen - and the harry.\n",
      "@realDailyWire Shock.\n",
      "@realDailyWire Was soon sure to come out 🤡\n",
      "@realDailyWire But the rest of the lies we told were completely true.....\n",
      "@realDailyWire Who gives a flying f%ck?\n",
      "@realDailyWire 😂😂😂🤡🤡\n",
      "@realDailyWire Lolz\n",
      "@realDailyWire If Harry and MEghan lied about something as silly as this, what else did they lie about?\n",
      "@realDailyWire MM is a succubus https://t.co/N1uHCzZXfR\n",
      "@realDailyWire REALLY LOOK WHO TBEY ARE TALKING A HYPOCRITE WHO THINKS SHE WHITE.\n",
      "@realDailyWire Why does anyone give a rat's ass abut these two talent bereft societal parasites?\n",
      "@realDailyWire SORRY YOUR TRUE COLORS CAME OUT REMEMBER MEGAN WHEN SOMEBODY SHOW WHO THEY REALLY ARE BELEIVE THEM.\n",
      "@realDailyWire They lied? Im shocked.\n",
      "@realDailyWire Meghan Markle is white as fuck lol just look at her she is white 😂\n",
      "@realDailyWire @RoryBranker ▶️ gold digger by Kanye West.\n",
      "@realDailyWire That's ok because everyone is still racist no matter what.\n",
      "@DirtyOldJoe1 @realDailyWire Meghan Markle is the human CNN\n",
      "@realDailyWire https://t.co/S8LVyxU3LD\n",
      "@realDailyWire What type of person lies about shit like that?\n",
      "\n",
      "I'll tell you. A compulsive liar.\n",
      "\n",
      "MM is a dirtbag.\n",
      "@xoXTheQueenXox @realDailyWire read the article at all ??\n",
      "@realDailyWire What a narcissist and her bitch boy lied for attention what a surprise\n",
      "@realDailyWire To *lying\n",
      "@realDailyWire https://t.co/nfnD1l0bTw\n",
      "@realDailyWire Bet that stuck in their throats\n",
      "@realDailyWire https://t.co/2SI9qSJvBh\n",
      "@realDailyWire Just one?\n",
      "@realDailyWire \"The Woke Princess and the Beta\"\n",
      "\n",
      "Voiced by Markle herself (thanks Harry)! https://t.co/w9mu4ZeLE9\n",
      "@xoXTheQueenXox @realDailyWire Ask them.\n",
      "@realDailyWire One lie and all credibility ends.\n",
      "\n",
      "Why is anyone the least bit interested in these 2?\n",
      "@realDailyWire @piersmorgan was right again\n",
      "@realDailyWire Shocking ,,lol wonder what else they lied about ! Leftist think leftists are dumb ! They lie all the time politicians /media etc and their supporters eat it up and defend the lies ! Imagine behind the scenes they are laughing in their faces ! And so am I !\n",
      "@realDailyWire Where did they say that?\n",
      "@realDailyWire https://t.co/QV59LzmNFL\n",
      "@realDailyWire That's not possible. Meghan is a victim and therefore cannot be wrong.\n",
      "@realDailyWire 🙄\n",
      "@realDailyWire https://t.co/BzGK4s5q4T\n",
      "@realDailyWire Weirdos https://t.co/mzkZFjpgYG\n",
      "@realDailyWire https://t.co/1W3Q9P16nK\n",
      "@realDailyWire The Gold Digger and the Cuck.\n",
      "@realDailyWire https://t.co/LPkkWUpgKv\n",
      "@realDailyWire https://t.co/s18wHxtJTC\n",
      "@realDailyWire Why does anyone care what these stupid assholes have to say?\n",
      "@realDailyWire Huh. Who would have guessed?\n",
      "@realDailyWire https://t.co/iXB8E5PL8l\n",
      "@realDailyWire Shocker\n",
      "@realDailyWire One lie leads to a mountain of lies. These people are crap. What happened to you Harry?\n",
      "@realDailyWire This should come as absolutely no surprise to anyone.\n",
      "@realDailyWire The Daily Wire is the internet version of the National Enquirer\n",
      "@realDailyWire Shocking\n",
      "@realDailyWire 🔥 Buy T-Shirt &amp; Hoodie at Reasonable Price 👉\n",
      " https://t.co/l8wrdD1P2e\n",
      "@realDailyWire Shocking...\n",
      "@realDailyWire can we fast forward to the divorce tell all interview? step the fuck up, nobody likes old news!\n",
      "@realDailyWire Liars gonna lie. No reason to believe anything ever say\n",
      "@JieBoden @realDailyWire Nice !!!\n",
      "@realDailyWire She just wants to be left alone and have a private life everyone. Everything she says is 100% true 👍👍😂😂 https://t.co/JSZp1Mw4LP\n",
      "@realDailyWire These two are such shitbags.\n",
      "@realDailyWire C’mon man!\n"
     ]
    }
   ],
   "source": [
    "r = api.rehydrate_conversation(conversation_id = '1375040407097122818')\n",
    "replies=[]\n",
    "for reply in r.json()['data']:\n",
    "    print(reply['text'])\n",
    "    replies.append(reply['text'])"
   ]
  },
  {
   "cell_type": "markdown",
   "metadata": {},
   "source": [
    "### Calculate emotional scores of replies"
   ]
  },
  {
   "cell_type": "code",
   "execution_count": 33,
   "metadata": {},
   "outputs": [
    {
     "data": {
      "text/plain": [
       "[('negative', 0.21608040201005024)]"
      ]
     },
     "execution_count": 33,
     "metadata": {},
     "output_type": "execute_result"
    }
   ],
   "source": [
    "from nrclex import NRCLex\n",
    "import re\n",
    "reply_text = ' '.join(replies)\n",
    "reply_text = re.sub(r\"http\\S+\",\" \",reply_text)\n",
    "reply_text = re.sub(r\"@\\S+\",\" \",reply_text)\n",
    "reply_text = reply_text.replace('\\n',' ')\n",
    "reply_text = reply_text.replace('\\r',' ') \n",
    "reply_text = reply_text.replace(\"'\\'\",' ') \n",
    "reply_text = reply_text.replace('[^\\x00-\\x7F]','')\n",
    "text_object = NRCLex(reply_text)\n",
    "text_object.affect_frequencies\n",
    "text_object.top_emotions"
   ]
  },
  {
   "cell_type": "code",
   "execution_count": null,
   "metadata": {},
   "outputs": [],
   "source": [
    "r = api.get_retweeters(status_id = '1374747080602828806')\n",
    "r.json()"
   ]
  },
  {
   "cell_type": "code",
   "execution_count": null,
   "metadata": {},
   "outputs": [],
   "source": [
    "def search_by_emoji_and_hashtag(emoji, hashtag):\n",
    "    # authenticate with end point\n",
    "    bearer_token = os.environ.get(\"BEARER_TOKEN\")\n",
    "    tweet_fields = \"tweet.fields=lang,author_id,conversation_id\"\n",
    "    url = 'https://api.twitter.com/2/tweets/search/recent?query=%23' + hashtag + ' ' + emoji + 'lang:en' + '&tweet.fields=author_id,conversation_id,public_metrics&max_results=10'\n",
    "    print(url)\n",
    "    \n",
    "    # submit GET request - submit a query to the API      \n",
    "    response = requests.request(\"GET\", url, \n",
    "                                headers = {\"Authorization\": \"Bearer {}\".format(bearer_token)})   \n",
    "    \n",
    "    return response\n",
    "\n",
    "r = search_by_emoji_and_hashtag(emoji = '(😃 OR 😡)', hashtag = 'covid')\n",
    "r.json()"
   ]
  }
 ],
 "metadata": {
  "kernelspec": {
   "display_name": "Python 3",
   "language": "python",
   "name": "python3"
  },
  "language_info": {
   "codemirror_mode": {
    "name": "ipython",
    "version": 3
   },
   "file_extension": ".py",
   "mimetype": "text/x-python",
   "name": "python",
   "nbconvert_exporter": "python",
   "pygments_lexer": "ipython3",
   "version": "3.8.5"
  }
 },
 "nbformat": 4,
 "nbformat_minor": 4
}
