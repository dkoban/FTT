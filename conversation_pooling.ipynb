{
 "cells": [
  {
   "cell_type": "markdown",
   "metadata": {},
   "source": [
    "### Import tokens"
   ]
  },
  {
   "cell_type": "code",
   "execution_count": 1,
   "metadata": {},
   "outputs": [],
   "source": [
    "import pandas as pd\n",
    "tokens = pd.read_csv(\"/Users/dankoban/Desktop/api_keys/tokens.csv\")\n",
    "twitter_bearer_token = tokens['key'][tokens['name'] == 'twitter_academic_bearer_token'].tolist()[0]"
   ]
  },
  {
   "cell_type": "markdown",
   "metadata": {},
   "source": [
    "### Query Original Tweet from News Source\n",
    "\n",
    "https://developer.twitter.com/en/docs/twitter-api/early-access"
   ]
  },
  {
   "cell_type": "code",
   "execution_count": 2,
   "metadata": {},
   "outputs": [],
   "source": [
    "import api_wrapper as api\n",
    "import requests\n",
    "import os\n",
    "os.environ[\"BEARER_TOKEN\"] = twitter_bearer_token"
   ]
  },
  {
   "cell_type": "code",
   "execution_count": 3,
   "metadata": {},
   "outputs": [
    {
     "data": {
      "text/plain": [
       "{'data': [{'id': '1374747080602828806',\n",
       "   'author_id': '9130702',\n",
       "   'conversation_id': '1374747080602828806',\n",
       "   'text': 'Russia outsources disinformation efforts to foreign troll farms\\n https://t.co/BKrOO6knnh',\n",
       "   'public_metrics': {'retweet_count': 24,\n",
       "    'reply_count': 6,\n",
       "    'like_count': 28,\n",
       "    'quote_count': 4}}]}"
      ]
     },
     "execution_count": 3,
     "metadata": {},
     "output_type": "execute_result"
    }
   ],
   "source": [
    "r = api.rehydrate_status_ids(ids = ['1374747080602828806'])\n",
    "r.json()"
   ]
  },
  {
   "cell_type": "code",
   "execution_count": 4,
   "metadata": {},
   "outputs": [
    {
     "data": {
      "text/plain": [
       "{'data': [{'text': '@starsandstripes Biden/Harris used Indian troll farms to spread theirs ... but y’all aren’t ready to talk about the manufactured consent in the US',\n",
       "   'author_id': '1119270120788877312',\n",
       "   'id': '1374754758183985157',\n",
       "   'lang': 'en',\n",
       "   'conversation_id': '1374747080602828806'},\n",
       "  {'text': '@starsandstripes They now have a mutual agreement with CNN to counter the internal propaganda for China',\n",
       "   'author_id': '265810072',\n",
       "   'id': '1374752841252880386',\n",
       "   'lang': 'en',\n",
       "   'conversation_id': '1374747080602828806'},\n",
       "  {'text': '@starsandstripes While we are at it\\nalso a quantitative number\\nthat are State Dept/USAID/CIA funded SM accounts\\nlinked to troll farms (paid to tweet/like)\\nBoth inside US and foreign',\n",
       "   'author_id': '708812755051139072',\n",
       "   'id': '1374751696497283073',\n",
       "   'lang': 'en',\n",
       "   'conversation_id': '1374747080602828806'},\n",
       "  {'text': \"@starsandstripes Now do DNC funded type\\nACORN foreign paid trollops\\nand their farms in China, Africa, EU, and India\\nI'll wait\",\n",
       "   'author_id': '708812755051139072',\n",
       "   'id': '1374750663788400643',\n",
       "   'lang': 'en',\n",
       "   'conversation_id': '1374747080602828806'},\n",
       "  {'text': '@starsandstripes And this is new? Been happening since the Soviet Cold War.',\n",
       "   'author_id': '1373623483473797120',\n",
       "   'id': '1374749150403776516',\n",
       "   'lang': 'en',\n",
       "   'conversation_id': '1374747080602828806'},\n",
       "  {'text': '@starsandstripes Nah!  America government are simply clowns! America is weak and fragile - ya know - Dont hurt Americas feelings. Does WAR have feelings?',\n",
       "   'author_id': '1247607442222931968',\n",
       "   'id': '1374748906085515270',\n",
       "   'lang': 'en',\n",
       "   'conversation_id': '1374747080602828806'},\n",
       "  {'text': '@starsandstripes and 75m Americans are STILL buying in... including active duty military🤦\\u200d♀️ #WakeUpAmerica',\n",
       "   'author_id': '1359664038876241921',\n",
       "   'id': '1374747470442430464',\n",
       "   'lang': 'en',\n",
       "   'conversation_id': '1374747080602828806'}],\n",
       " 'meta': {'newest_id': '1374754758183985157',\n",
       "  'oldest_id': '1374747470442430464',\n",
       "  'result_count': 7}}"
      ]
     },
     "execution_count": 4,
     "metadata": {},
     "output_type": "execute_result"
    }
   ],
   "source": [
    "r = api.rehydrate_conversation(conversation_id = '1374747080602828806')\n",
    "r.json()"
   ]
  },
  {
   "cell_type": "code",
   "execution_count": 5,
   "metadata": {},
   "outputs": [
    {
     "name": "stdout",
     "output_type": "stream",
     "text": [
      "https://api.twitter.com/1.1/statuses/retweeters/ids.json?id=1374747080602828806&count=100&stringify_ids=true\n"
     ]
    },
    {
     "data": {
      "text/plain": [
       "{'ids': ['110784859',\n",
       "  '1374131208695640064',\n",
       "  '1264821909516169216',\n",
       "  '1278123535911845894',\n",
       "  '248991281',\n",
       "  '1197737441928601600',\n",
       "  '769046592',\n",
       "  '457809470',\n",
       "  '827383896',\n",
       "  '19077401',\n",
       "  '1020078110660878337',\n",
       "  '102405880',\n",
       "  '23033825',\n",
       "  '1218605146462216193',\n",
       "  '909434454',\n",
       "  '1018846051275558912',\n",
       "  '1359664038876241921',\n",
       "  '222443124',\n",
       "  '335295068',\n",
       "  '19042993'],\n",
       " 'next_cursor': 0,\n",
       " 'next_cursor_str': '0',\n",
       " 'previous_cursor': 0,\n",
       " 'previous_cursor_str': '0',\n",
       " 'total_count': None}"
      ]
     },
     "execution_count": 5,
     "metadata": {},
     "output_type": "execute_result"
    }
   ],
   "source": [
    "r = api.get_retweeters(status_id = '1374747080602828806')\n",
    "r.json()"
   ]
  },
  {
   "cell_type": "code",
   "execution_count": null,
   "metadata": {},
   "outputs": [],
   "source": [
    "def search_by_emoji_and_hashtag(emoji, hashtag):\n",
    "    # authenticate with end point\n",
    "    bearer_token = os.environ.get(\"BEARER_TOKEN\")\n",
    "    tweet_fields = \"tweet.fields=lang,author_id,conversation_id\"\n",
    "    url = 'https://api.twitter.com/2/tweets/search/recent?query=%23' + hashtag + ' ' + emoji + 'lang:en' + '&tweet.fields=author_id,conversation_id,public_metrics&max_results=10'\n",
    "    print(url)\n",
    "    \n",
    "    # submit GET request - submit a query to the API      \n",
    "    response = requests.request(\"GET\", url, \n",
    "                                headers = {\"Authorization\": \"Bearer {}\".format(bearer_token)})   \n",
    "    \n",
    "    return response\n",
    "\n",
    "r = search_by_emoji_and_hashtag(emoji = '(😃 OR 😡)', hashtag = 'covid')\n",
    "r.json()"
   ]
  }
 ],
 "metadata": {
  "kernelspec": {
   "display_name": "Python 3",
   "language": "python",
   "name": "python3"
  },
  "language_info": {
   "codemirror_mode": {
    "name": "ipython",
    "version": 3
   },
   "file_extension": ".py",
   "mimetype": "text/x-python",
   "name": "python",
   "nbconvert_exporter": "python",
   "pygments_lexer": "ipython3",
   "version": "3.8.5"
  }
 },
 "nbformat": 4,
 "nbformat_minor": 4
}
