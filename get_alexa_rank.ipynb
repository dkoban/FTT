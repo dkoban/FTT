{
 "cells": [
  {
   "cell_type": "markdown",
   "metadata": {},
   "source": [
    "### Import tokens"
   ]
  },
  {
   "cell_type": "code",
   "execution_count": 1,
   "metadata": {},
   "outputs": [],
   "source": [
    "import pandas as pd\n",
    "tokens = pd.read_csv(\"/Users/dankoban/Desktop/api_keys/tokens.csv\")\n",
    "awis_token = tokens['key'][tokens['name'] == 'awis_token'].tolist()[0]\n",
    "awis_access_id = tokens['key'][tokens['name'] == 'awis_access_id'].tolist()[0]\n",
    "twitter_bearer_token = tokens['key'][tokens['name'] == 'twitter_academic_bearer_token'].tolist()[0]"
   ]
  },
  {
   "cell_type": "markdown",
   "metadata": {},
   "source": [
    "### Query news sites for Alexa rank\n",
    "\n",
    "https://www.alexa.com/popular-articles/public-health#"
   ]
  },
  {
   "cell_type": "code",
   "execution_count": 2,
   "metadata": {},
   "outputs": [
    {
     "name": "stdout",
     "output_type": "stream",
     "text": [
      "{'DataUrl': 'cnn.com/', 'Rank': '73'}\n",
      "{'DataUrl': 'dailywire.com/', 'Rank': '3001'}\n",
      "{'DataUrl': 'publichealth.lacounty.gov/', 'Rank': '4333'}\n"
     ]
    }
   ],
   "source": [
    "from util import get_alexa_rank\n",
    "\n",
    "domains = ['cnn.com', 'dailywire.com', 'publichealth.lacounty.gov']\n",
    "for domain in domains:\n",
    "    print(get_alexa_rank(domain, api_key = awis_token, access_id = awis_access_id))"
   ]
  },
  {
   "cell_type": "code",
   "execution_count": 4,
   "metadata": {},
   "outputs": [
    {
     "data": {
      "text/plain": [
       "{'data': [{'text': 'What do you call somebody who takes credit for someone else’s work? \\nBiden Makes Numerous False Claims During Speech While Failing To Give Trump Admin Credit For Vaccine Work | The Daily Wire\\n\\n#Biden #COVID-19 #Pandemic  https://t.co/sRzMhTJodV',\n",
       "   'created_at': '2021-03-13T13:11:11.000Z',\n",
       "   'id': '1370724120011362304',\n",
       "   'lang': 'en',\n",
       "   'author_id': '59920278'},\n",
       "  {'text': 'The Mental Health Pandemic Is Already Here https://t.co/OeA1DpRBMY #COVID19 #COVID #Pandemic #MentalHealthMatters #MentalHealthAwareness @realDailyWire',\n",
       "   'created_at': '2021-03-03T20:36:15.000Z',\n",
       "   'id': '1367212246238179333',\n",
       "   'lang': 'en',\n",
       "   'author_id': '406562943'}],\n",
       " 'meta': {'newest_id': '1370724120011362304',\n",
       "  'oldest_id': '1367212246238179333',\n",
       "  'result_count': 2}}"
      ]
     },
     "execution_count": 4,
     "metadata": {},
     "output_type": "execute_result"
    }
   ],
   "source": [
    "import requests\n",
    "import os\n",
    "\n",
    "twitter_bearer_token = tokens['key'][tokens['name'] == 'twitter_academic_bearer_token'].tolist()[0]\n",
    "os.environ[\"BEARER_TOKEN\"] = twitter_bearer_token\n",
    "\n",
    "def search_tweets(qstring):\n",
    "    # authenticate with end point\n",
    "    bearer_token = os.environ.get(\"BEARER_TOKEN\")    \n",
    "    \n",
    "    # generate query string    \n",
    "    # 'https://api.twitter.com/2/tweets/search/all?query=caturday%20has:images%20-is:retweet&tweet.fields=created_at,author_id,lang&max_results=20'\n",
    "    # 'url:stackoverflow.com'\n",
    "    # https://developer.twitter.com/en/docs/twitter-api/tweets/search/integrate/build-a-query\n",
    "    url =  'https://api.twitter.com/2/tweets/search/all?query=' + qstring + '&tweet.fields=created_at,author_id,lang&max_results=10'\n",
    "    \n",
    "    # submit GET request - submit a query to the API      \n",
    "    response = requests.request(\"GET\", url, \n",
    "                                headers = {\"Authorization\": \"Bearer {}\".format(bearer_token)})   \n",
    "    \n",
    "    return response\n",
    "\n",
    "r = search_tweets(qstring = '%23covid %23pandemic url:dailywire.com')\n",
    "r.json()"
   ]
  }
 ],
 "metadata": {
  "kernelspec": {
   "display_name": "Python 3",
   "language": "python",
   "name": "python3"
  },
  "language_info": {
   "codemirror_mode": {
    "name": "ipython",
    "version": 3
   },
   "file_extension": ".py",
   "mimetype": "text/x-python",
   "name": "python",
   "nbconvert_exporter": "python",
   "pygments_lexer": "ipython3",
   "version": "3.8.5"
  }
 },
 "nbformat": 4,
 "nbformat_minor": 4
}
